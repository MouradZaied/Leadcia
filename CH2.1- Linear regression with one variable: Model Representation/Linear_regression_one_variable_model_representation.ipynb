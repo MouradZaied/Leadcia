{
  "nbformat": 4,
  "nbformat_minor": 0,
  "metadata": {
    "colab": {
      "name": "Linear regression.ipynb",
      "provenance": []
    },
    "kernelspec": {
      "name": "python3",
      "display_name": "Python 3"
    }
  },
  "cells": [
    {
      "cell_type": "code",
      "metadata": {
        "id": "m2VUx9x8JM1J"
      },
      "source": [
        "# Importing dependencies\n",
        "import numpy as np  #python library for scientific computing\n",
        "import pandas as pd #python library for data analysis and dataframes\n",
        "import matplotlib.pyplot as plt #python library for plot and graphs"
      ],
      "execution_count": null,
      "outputs": []
    },
    {
      "cell_type": "code",
      "metadata": {
        "id": "N7v-GELFtJUg",
        "colab": {
          "base_uri": "https://localhost:8080/"
        },
        "outputId": "e271e556-96ac-4323-f4b6-b4d83158dcf2"
      },
      "source": [
        "# Mount google drive\n",
        "from google.colab import drive\n",
        "drive.mount('/content/drive', force_remount=True)"
      ],
      "execution_count": null,
      "outputs": [
        {
          "output_type": "stream",
          "text": [
            "Mounted at /content/drive\n"
          ],
          "name": "stdout"
        }
      ]
    },
    {
      "cell_type": "code",
      "metadata": {
        "id": "ghZ8ywJENuol",
        "colab": {
          "base_uri": "https://localhost:8080/",
          "height": 204
        },
        "outputId": "d1730cca-2d7a-4d94-e087-e306cd758d61"
      },
      "source": [
        "# Read data file from google drive\n",
        "data = pd.read_csv('/content/drive/My Drive/My_Courses/Machine_Learning/input/Irregation_one_variable.txt', header=None)\n",
        "data.head()"
      ],
      "execution_count": null,
      "outputs": [
        {
          "output_type": "execute_result",
          "data": {
            "text/html": [
              "<div>\n",
              "<style scoped>\n",
              "    .dataframe tbody tr th:only-of-type {\n",
              "        vertical-align: middle;\n",
              "    }\n",
              "\n",
              "    .dataframe tbody tr th {\n",
              "        vertical-align: top;\n",
              "    }\n",
              "\n",
              "    .dataframe thead th {\n",
              "        text-align: right;\n",
              "    }\n",
              "</style>\n",
              "<table border=\"1\" class=\"dataframe\">\n",
              "  <thead>\n",
              "    <tr style=\"text-align: right;\">\n",
              "      <th></th>\n",
              "      <th>0</th>\n",
              "      <th>1</th>\n",
              "    </tr>\n",
              "  </thead>\n",
              "  <tbody>\n",
              "    <tr>\n",
              "      <th>0</th>\n",
              "      <td>2524</td>\n",
              "      <td>360.416</td>\n",
              "    </tr>\n",
              "    <tr>\n",
              "      <th>1</th>\n",
              "      <td>1600</td>\n",
              "      <td>229.914</td>\n",
              "    </tr>\n",
              "    <tr>\n",
              "      <th>2</th>\n",
              "      <td>730</td>\n",
              "      <td>150.125</td>\n",
              "    </tr>\n",
              "    <tr>\n",
              "      <th>3</th>\n",
              "      <td>1730</td>\n",
              "      <td>132.013</td>\n",
              "    </tr>\n",
              "    <tr>\n",
              "      <th>4</th>\n",
              "      <td>3000</td>\n",
              "      <td>439.210</td>\n",
              "    </tr>\n",
              "  </tbody>\n",
              "</table>\n",
              "</div>"
            ],
            "text/plain": [
              "      0        1\n",
              "0  2524  360.416\n",
              "1  1600  229.914\n",
              "2   730  150.125\n",
              "3  1730  132.013\n",
              "4  3000  439.210"
            ]
          },
          "metadata": {
            "tags": []
          },
          "execution_count": 7
        }
      ]
    },
    {
      "cell_type": "code",
      "metadata": {
        "id": "fBgbNkfnOGiQ",
        "colab": {
          "base_uri": "https://localhost:8080/",
          "height": 204
        },
        "outputId": "f8b3b35a-8b41-431a-f106-a1d5d4931ceb"
      },
      "source": [
        "# Give a name to each column and display some rows\n",
        "data.columns =(['Size','Irrigation_quantity'])\n",
        "data.head()"
      ],
      "execution_count": null,
      "outputs": [
        {
          "output_type": "execute_result",
          "data": {
            "text/html": [
              "<div>\n",
              "<style scoped>\n",
              "    .dataframe tbody tr th:only-of-type {\n",
              "        vertical-align: middle;\n",
              "    }\n",
              "\n",
              "    .dataframe tbody tr th {\n",
              "        vertical-align: top;\n",
              "    }\n",
              "\n",
              "    .dataframe thead th {\n",
              "        text-align: right;\n",
              "    }\n",
              "</style>\n",
              "<table border=\"1\" class=\"dataframe\">\n",
              "  <thead>\n",
              "    <tr style=\"text-align: right;\">\n",
              "      <th></th>\n",
              "      <th>Size</th>\n",
              "      <th>Irrigation_quantity</th>\n",
              "    </tr>\n",
              "  </thead>\n",
              "  <tbody>\n",
              "    <tr>\n",
              "      <th>0</th>\n",
              "      <td>2524</td>\n",
              "      <td>360.416</td>\n",
              "    </tr>\n",
              "    <tr>\n",
              "      <th>1</th>\n",
              "      <td>1600</td>\n",
              "      <td>229.914</td>\n",
              "    </tr>\n",
              "    <tr>\n",
              "      <th>2</th>\n",
              "      <td>730</td>\n",
              "      <td>150.125</td>\n",
              "    </tr>\n",
              "    <tr>\n",
              "      <th>3</th>\n",
              "      <td>1730</td>\n",
              "      <td>132.013</td>\n",
              "    </tr>\n",
              "    <tr>\n",
              "      <th>4</th>\n",
              "      <td>3000</td>\n",
              "      <td>439.210</td>\n",
              "    </tr>\n",
              "  </tbody>\n",
              "</table>\n",
              "</div>"
            ],
            "text/plain": [
              "   Size  Irrigation_quantity\n",
              "0  2524              360.416\n",
              "1  1600              229.914\n",
              "2   730              150.125\n",
              "3  1730              132.013\n",
              "4  3000              439.210"
            ]
          },
          "metadata": {
            "tags": []
          },
          "execution_count": 8
        }
      ]
    },
    {
      "cell_type": "code",
      "metadata": {
        "id": "zS84i2mBk4LW",
        "colab": {
          "base_uri": "https://localhost:8080/"
        },
        "outputId": "d0ef56cb-0c5c-4d6a-daff-d1bc120dab35"
      },
      "source": [
        "# Extract Size column (X), irrigation_quantity column (y)  and number of examples m\n",
        "X = np.array(data.drop('Irrigation_quantity',axis=1))\n",
        "y = np.array(data.Irrigation_quantity)\n",
        "m = len(data)\n",
        "y = y.reshape((m,1))\n",
        "print(m)"
      ],
      "execution_count": null,
      "outputs": [
        {
          "output_type": "stream",
          "text": [
            "75\n"
          ],
          "name": "stdout"
        }
      ]
    },
    {
      "cell_type": "code",
      "metadata": {
        "id": "r8Zx5F_e7JQH",
        "colab": {
          "base_uri": "https://localhost:8080/",
          "height": 522
        },
        "outputId": "cae06747-4433-4c13-e136-0ef764afe3c5"
      },
      "source": [
        "# Represent the scatter plot of the amount of irrigation quantity as a function of the garden area\r\n",
        "fig = plt.figure(figsize=(8,8))\r\n",
        "plt.plot(X,y,'ro', label='Training data')\r\n",
        "plt.title('Training data', size = 20)\r\n",
        "plt.xlabel('x', size=14)\r\n",
        "plt.ylabel('y', size=14)\r\n",
        "plt.axis([X.min()-X.std(),X.max()+X.std(),y.min()-y.std(),y.max()+y.std()])\r\n",
        "plt.grid(axis='both')\r\n",
        "plt.legend(loc='lower right')\r\n",
        "plt.show()"
      ],
      "execution_count": null,
      "outputs": [
        {
          "output_type": "display_data",
          "data": {
            "image/png": "[encoded data removed]",
            "text/plain": [
              "<Figure size 576x576 with 1 Axes>"
            ]
          },
          "metadata": {
            "tags": [],
            "needs_background": "light"
          }
        }
      ]
    }
  ]
}